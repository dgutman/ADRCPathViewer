{
 "cells": [
  {
   "cell_type": "code",
   "execution_count": 16,
   "metadata": {
    "collapsed": false
   },
   "outputs": [],
   "source": [
    "import pymongo\n",
    "import os,csv,sys,glob\n",
    "import openslide\n",
    "import dsa_mongo_common_functions as dsa\n",
    "import cdsa_loader_helper_functions as cdsa_helpers\n",
    "import pprint\n",
    "client = pymongo.MongoClient('localhost',27017)\n",
    "dsa_load_errors_db = client['DSA_LoadErrors']\n"
   ]
  },
  {
   "cell_type": "code",
   "execution_count": 14,
   "metadata": {
    "collapsed": false
   },
   "outputs": [],
   "source": [
    "XML_LocalRoot = '/home/dagutman/devel/ADRCPathViewer_2.0/static/'\n",
    "\n",
    "xml_files = glob.glob(XML_LocalRoot+'xmls/*/*.xml')\n",
    "#print xml_files\n",
    "\n",
    "xml_data_set = {}\n",
    "\n",
    "for x in xml_files:\n",
    "    xobj = {}\n",
    "    xobj['localPath'] = x\n",
    "    xobj['webPath'] = x.replace(XML_LocalRoot,'')\n",
    "    slideName = os.path.basename(x).replace('.xml','')\n",
    "    xobj['slideName'] = slideName\n",
    "    xml_data_set[slideName] = xobj"
   ]
  },
  {
   "cell_type": "code",
   "execution_count": 17,
   "metadata": {
    "collapsed": false
   },
   "outputs": [
    {
     "data": {
      "text/plain": [
       "<pymongo.results.InsertOneResult at 0x7f4dd005d0f0>"
      ]
     },
     "execution_count": 17,
     "metadata": {},
     "output_type": "execute_result"
    }
   ],
   "source": [
    "bsd = { 'slideID': '222222', 'slideName': '1000676.svs'}\n",
    "\n",
    "\n",
    "dsa_load_errors_db['BadSlides'].insert_one(bsd)"
   ]
  },
  {
   "cell_type": "code",
   "execution_count": 6,
   "metadata": {
    "collapsed": false
   },
   "outputs": [
    {
     "data": {
      "text/plain": [
       "[u'1000676.svs']"
      ]
     },
     "execution_count": 6,
     "metadata": {},
     "output_type": "execute_result"
    }
   ],
   "source": [
    "dsa_load_errors_db['BadSlides'].distinct('slideName')"
   ]
  },
  {
   "cell_type": "code",
   "execution_count": 18,
   "metadata": {
    "collapsed": false
   },
   "outputs": [
    {
     "name": "stdout",
     "output_type": "stream",
     "text": [
      "104 Potential Patient directories were identified\n"
     ]
    }
   ],
   "source": [
    "## This is specific to a given fle system and or structurme\n",
    "slide_root = '/GLOBAL_SCRATCH/ADRC/'  ##Base Path for Slides\n",
    "dsa_slide_db = client['ADRC_DSA_Slide_DB']  ### These need to be configured for the specific project\n",
    "\n",
    "### To generalize this, need to describe organization, most common will be  PATIENT/STAIN_TYPE as subdirectories\n",
    "subj_dir_list = [x for x in os.listdir(slide_root) if os.path.isdir(os.path.join(slide_root,x))]\n",
    "print len(subj_dir_list),\"Potential Patient directories were identified\""
   ]
  },
  {
   "cell_type": "code",
   "execution_count": 3,
   "metadata": {
    "collapsed": false
   },
   "outputs": [
    {
     "data": {
      "text/plain": [
       "[u'system.indexes', u'RawSlideData', u'DSA_Slide_Data']"
      ]
     },
     "execution_count": 3,
     "metadata": {},
     "output_type": "execute_result"
    }
   ],
   "source": [
    "dsa_slide_db.collection_names()"
   ]
  },
  {
   "cell_type": "code",
   "execution_count": 8,
   "metadata": {
    "collapsed": false
   },
   "outputs": [],
   "source": [
    "def find_rawslide_lists( slide_root_path ):\n",
    "        \"\"\"project_name is passed along with the potentially more than one root image path for ndpi files\"\"\"\n",
    "        slide_files = []\n",
    "\n",
    "        slide_root_path  = slide_root_path.rstrip('/')\n",
    "        print slide_root_path\n",
    "        for dpath, dnames, fnames in os.walk( slide_root_path, followlinks=True):\n",
    "                \n",
    "                for file in fnames:\n",
    "                    if '.ndpi' in file or '.svs' in file:\n",
    "                                slide_files.append(dpath +'/'+file)\n",
    "        print len(slide_files),\"SVS or NDPI files were located\"\n",
    "        return slide_files"
   ]
  },
  {
   "cell_type": "code",
   "execution_count": 9,
   "metadata": {
    "collapsed": false
   },
   "outputs": [
    {
     "name": "stdout",
     "output_type": "stream",
     "text": [
      "ADRC61-124 is being processed /GLOBAL_SCRATCH/ADRC/ADRC61-124\n",
      "106 SVS or NDPI files were located\n",
      "\u001b[KTotal Processed: 106  Newly Processed: 0 Dup Slides or Already Loaded: 0  RESCANNED Slides 0ADRC50-10 is being processed /GLOBAL_SCRATCH/ADRC/ADRC50-10\n",
      "58 SVS or NDPI files were located\n",
      "\u001b[KTotal Processed: 58  Newly Processed: 0 Dup Slides or Already Loaded: 0  RESCANNED Slides 0ADRC61-128 is being processed /GLOBAL_SCRATCH/ADRC/ADRC61-128\n",
      "99 SVS or NDPI files were located\n",
      "\u001b[KTotal Processed: 99  Newly Processed: 0 Dup Slides or Already Loaded: 0  RESCANNED Slides 0ADRC50-40 is being processed /GLOBAL_SCRATCH/ADRC/ADRC50-40\n",
      "59 SVS or NDPI files were located\n",
      "\u001b[KTotal Processed: 59  Newly Processed: 0 Dup Slides or Already Loaded: 0  RESCANNED Slides 0ADRC51-60 is being processed /GLOBAL_SCRATCH/ADRC/ADRC51-60\n",
      "10 SVS or NDPI files were located\n",
      "\u001b[KTotal Processed: 10  Newly Processed: 0 Dup Slides or Already Loaded: 0  RESCANNED Slides 0@eaDir is being processed /GLOBAL_SCRATCH/ADRC/@eaDir\n",
      "0 SVS or NDPI files were located\n",
      "ADRC60-150 is being processed /GLOBAL_SCRATCH/ADRC/ADRC60-150\n",
      "112 SVS or NDPI files were located\n",
      "\u001b[KTotal Processed: 112  Newly Processed: 0 Dup Slides or Already Loaded: 0  RESCANNED Slides 0ADRC61-120 is being processed /GLOBAL_SCRATCH/ADRC/ADRC61-120\n",
      "2 SVS or NDPI files were located\n",
      "\u001b[KTotal Processed: 2  Newly Processed: 0 Dup Slides or Already Loaded: 0  RESCANNED Slides 0ADRC57-85 is being processed /GLOBAL_SCRATCH/ADRC/ADRC57-85\n",
      "25 SVS or NDPI files were located\n",
      "\u001b[KTotal Processed: 25  Newly Processed: 0 Dup Slides or Already Loaded: 0  RESCANNED Slides 0ADRC55-200 is being processed /GLOBAL_SCRATCH/ADRC/ADRC55-200\n",
      "14 SVS or NDPI files were located\n",
      "\u001b[KTotal Processed: 14  Newly Processed: 0 Dup Slides or Already Loaded: 0  RESCANNED Slides 0ADRC49-07 is being processed /GLOBAL_SCRATCH/ADRC/ADRC49-07\n",
      "70 SVS or NDPI files were located\n",
      "\u001b[KTotal Processed: 70  Newly Processed: 0 Dup Slides or Already Loaded: 0  RESCANNED Slides 0ADRC50-11 is being processed /GLOBAL_SCRATCH/ADRC/ADRC50-11\n",
      "1 SVS or NDPI files were located\n",
      "\u001b[KTotal Processed: 1  Newly Processed: 0 Dup Slides or Already Loaded: 0  RESCANNED Slides 0ADRC51-2 is being processed /GLOBAL_SCRATCH/ADRC/ADRC51-2\n",
      "1 SVS or NDPI files were located\n",
      "\u001b[KTotal Processed: 1  Newly Processed: 0 Dup Slides or Already Loaded: 0  RESCANNED Slides 0ADRC51-134 is being processed /GLOBAL_SCRATCH/ADRC/ADRC51-134\n",
      "11 SVS or NDPI files were located\n",
      "\u001b[KTotal Processed: 11  Newly Processed: 0 Dup Slides or Already Loaded: 0  RESCANNED Slides 0.ipynb_checkpoints is being processed /GLOBAL_SCRATCH/ADRC/.ipynb_checkpoints\n",
      "0 SVS or NDPI files were located\n",
      "SamMarch20 is being processed /GLOBAL_SCRATCH/ADRC/SamMarch20\n",
      "28 SVS or NDPI files were located\n",
      "\u001b[KTotal Processed: 28  Newly Processed: 0 Dup Slides or Already Loaded: 0  RESCANNED Slides 0ADRC61-139 is being processed /GLOBAL_SCRATCH/ADRC/ADRC61-139\n",
      "91 SVS or NDPI files were located\n",
      "\u001b[KTotal Processed: 91  Newly Processed: 0 Dup Slides or Already Loaded: 0  RESCANNED Slides 0ADRC61-125 is being processed /GLOBAL_SCRATCH/ADRC/ADRC61-125\n",
      "150 SVS or NDPI files were located\n",
      "\u001b[KTotal Processed: 150  Newly Processed: 0 Dup Slides or Already Loaded: 0  RESCANNED Slides 0ADRC53-300 is being processed /GLOBAL_SCRATCH/ADRC/ADRC53-300\n",
      "1 SVS or NDPI files were located\n",
      "\u001b[KTotal Processed: 1  Newly Processed: 0 Dup Slides or Already Loaded: 0  RESCANNED Slides 0ADRC56-112 is being processed /GLOBAL_SCRATCH/ADRC/ADRC56-112\n",
      "21 SVS or NDPI files were located\n",
      "\u001b[KTotal Processed: 21  Newly Processed: 0 Dup Slides or Already Loaded: 0  RESCANNED Slides 0ADRC43-24 is being processed /GLOBAL_SCRATCH/ADRC/ADRC43-24\n",
      "1 SVS or NDPI files were located\n",
      "\u001b[KTotal Processed: 1  Newly Processed: 0 Dup Slides or Already Loaded: 0  RESCANNED Slides 0ADRC61-73 is being processed /GLOBAL_SCRATCH/ADRC/ADRC61-73\n",
      "89 SVS or NDPI files were located\n",
      "\u001b[KTotal Processed: 89  Newly Processed: 0 Dup Slides or Already Loaded: 0  RESCANNED Slides 0ADRC62-74 is being processed /GLOBAL_SCRATCH/ADRC/ADRC62-74\n",
      "112 SVS or NDPI files were located\n",
      "\u001b[KTotal Processed: 47  Newly Processed: 0 Dup Slides or Already Loaded: 0  RESCANNED Slides 0Openslide returned an error /GLOBAL_SCRATCH/ADRC/ADRC62-74/Biels/ADRC62-74_A4_biels.ndpi\n",
      "Openslide returned an error /GLOBAL_SCRATCH/ADRC/ADRC62-74/Biels/ADRC62-74_A4_biels.ndpi\n",
      "SHIT IT DIED!\n",
      "UNABLE TO OPEN FILE?? /GLOBAL_SCRATCH/ADRC/ADRC62-74/Biels/ADRC62-74_A4_biels.ndpi\n",
      "\u001b[KTotal Processed: 112  Newly Processed: 0 Dup Slides or Already Loaded: 0  RESCANNED Slides 0ADRC61-84 is being processed /GLOBAL_SCRATCH/ADRC/ADRC61-84\n",
      "104 SVS or NDPI files were located\n",
      "\u001b[KTotal Processed: 103  Newly Processed: 0 Dup Slides or Already Loaded: 0  RESCANNED Slides 0"
     ]
    },
    {
     "name": "stderr",
     "output_type": "stream",
     "text": [
      "Verify failed with: (u\"Can't validate JPEG for directory 0: Expected marker at 4294972165, found none\",)\n",
      "Verify failed with:"
     ]
    },
    {
     "name": "stdout",
     "output_type": "stream",
     "text": [
      "Openslide returned an error /GLOBAL_SCRATCH/ADRC/ADRC61-84/Tau/ADRC61-84_A15_US-tau.ndpi\n",
      "Openslide returned an error /GLOBAL_SCRATCH/ADRC/ADRC61-84/Tau/ADRC61-84_A15_US-tau.ndpi\n",
      "SHIT IT DIED!\n",
      "UNABLE TO OPEN FILE?? /GLOBAL_SCRATCH/ADRC/ADRC61-84/Tau/ADRC61-84_A15_US-tau.ndpi\n",
      "\u001b[KTotal Processed: 104  Newly Processed: 0 Dup Slides or Already Loaded: 0  RESCANNED Slides 0ADRC62-14 is being processed /GLOBAL_SCRATCH/ADRC/ADRC62-14\n",
      "1 SVS or NDPI files were located\n",
      "\u001b[KTotal Processed: 1  Newly Processed: 0 Dup Slides or Already Loaded: 0  RESCANNED Slides 0ADRC60-179 is being processed /GLOBAL_SCRATCH/ADRC/ADRC60-179\n",
      "96 SVS or NDPI files were located\n",
      "\u001b[KTotal Processed: 96  Newly Processed: 0 Dup Slides or Already Loaded: 0  RESCANNED Slides 0ADRC49-04 is being processed /GLOBAL_SCRATCH/ADRC/ADRC49-04\n",
      "18 SVS or NDPI files were located\n",
      "\u001b[KTotal Processed: 18  Newly Processed: 0 Dup Slides or Already Loaded: 0  RESCANNED Slides 0ADRC56-97 is being processed /GLOBAL_SCRATCH/ADRC/ADRC56-97\n",
      "116 SVS or NDPI files were located\n",
      "\u001b[KTotal Processed: 116  Newly Processed: 0 Dup Slides or Already Loaded: 0  RESCANNED Slides 0ADRC51-06 is being processed /GLOBAL_SCRATCH/ADRC/ADRC51-06\n",
      "64 SVS or NDPI files were located\n",
      "\u001b[KTotal Processed: 26  Newly Processed: 0 Dup Slides or Already Loaded: 0  RESCANNED Slides 0"
     ]
    },
    {
     "name": "stderr",
     "output_type": "stream",
     "text": [
      " (u\"Can't validate JPEG for directory 0: Expected marker at 4294972345, found none\",)\n",
      "Verify failed with:"
     ]
    },
    {
     "name": "stdout",
     "output_type": "stream",
     "text": [
      "Openslide returned an error /GLOBAL_SCRATCH/ADRC/ADRC51-06/BIELS/ADRC51-06_10_BIELS.ndpi\n",
      "Openslide returned an error /GLOBAL_SCRATCH/ADRC/ADRC51-06/BIELS/ADRC51-06_10_BIELS.ndpi\n",
      "SHIT IT DIED!\n",
      "UNABLE TO OPEN FILE?? /GLOBAL_SCRATCH/ADRC/ADRC51-06/BIELS/ADRC51-06_10_BIELS.ndpi\n",
      "\u001b[KTotal Processed: 27  Newly Processed: 0 Dup Slides or Already Loaded: 0  RESCANNED Slides 0Openslide returned an error /GLOBAL_SCRATCH/ADRC/ADRC51-06/BIELS/ADRC51-06_8_BIELS.ndpi\n",
      "Openslide returned an error /GLOBAL_SCRATCH/ADRC/ADRC51-06/BIELS/ADRC51-06_8_BIELS.ndpi\n",
      "SHIT IT DIED!\n",
      "UNABLE TO OPEN FILE?? /GLOBAL_SCRATCH/ADRC/ADRC51-06/BIELS/ADRC51-06_8_BIELS.ndpi\n",
      "\u001b[KTotal Processed: 37  Newly Processed: 0 Dup Slides or Already Loaded: 0  RESCANNED Slides 0Openslide returned an error /GLOBAL_SCRATCH/ADRC/ADRC51-06/To_Be_Sorted/ADRC51-06_8_S-M.ndpi\n",
      "Openslide returned an error /GLOBAL_SCRATCH/ADRC/ADRC51-06/To_Be_Sorted/ADRC51-06_8_S-M.ndpi\n",
      "SHIT IT DIED!\n",
      "UNABLE TO OPEN FILE?? /GLOBAL_SCRATCH/ADRC/ADRC51-06/To_Be_Sorted/ADRC51-06_8_S-M.ndpi\n",
      "\u001b[KTotal Processed: 64  Newly Processed: 0 Dup Slides or Already Loaded: 0  RESCANNED Slides 0ADRC36-04 is being processed /GLOBAL_SCRATCH/ADRC/ADRC36-04\n",
      "3 SVS or NDPI files were located\n",
      "\u001b[KTotal Processed: 3  Newly Processed: 0 Dup Slides or Already Loaded: 0  RESCANNED Slides 0NeuroPathology is being processed /GLOBAL_SCRATCH/ADRC/NeuroPathology\n",
      "291 SVS or NDPI files were located\n",
      "\u001b[KTotal Processed: 207  Newly Processed: 207 Dup Slides or Already Loaded: 0  RESCANNED Slides 0"
     ]
    },
    {
     "name": "stderr",
     "output_type": "stream",
     "text": [
      " (u\"Can't validate JPEG for directory 0: Expected marker at 4294972181, found none\",)\n",
      "Verify failed with: (u\"Can't validate JPEG for directory 0: Expected marker at 4294972180, found none\",)\n",
      "Verify failed with: (u\"Can't validate JPEG for directory 0: Expected marker at 4294972358, found none\",)\n",
      "Verify failed with:"
     ]
    },
    {
     "name": "stdout",
     "output_type": "stream",
     "text": [
      "Openslide returned an error om tje StandardError block /GLOBAL_SCRATCH/ADRC/NeuroPathology/2015-12-18/1000871.svs\n",
      "SHIT IT DIED!\n",
      "insert into `corrupt_or_unreadable_ndpi_files` (full_file_name,filesize) Values ('/GLOBAL_SCRATCH/ADRC/NeuroPathology/2015-12-18/1000871.svs',4748214272) \n",
      "UNABLE TO OPEN FILE?? /GLOBAL_SCRATCH/ADRC/NeuroPathology/2015-12-18/1000871.svs\n",
      "\u001b[KTotal Processed: 291  Newly Processed: 289 Dup Slides or Already Loaded: 0  RESCANNED Slides 0ADRC59-164 is being processed /GLOBAL_SCRATCH/ADRC/ADRC59-164\n",
      "115 SVS or NDPI files were located\n",
      "\u001b[KTotal Processed: 80  Newly Processed: 0 Dup Slides or Already Loaded: 0  RESCANNED Slides 0"
     ]
    },
    {
     "name": "stderr",
     "output_type": "stream",
     "text": [
      " (\"cannot identify image file '/GLOBAL_SCRATCH/ADRC/NeuroPathology/2015-12-18/1000871.svs'\",)\n",
      "Verify failed with:"
     ]
    },
    {
     "name": "stdout",
     "output_type": "stream",
     "text": [
      "Openslide returned an error /GLOBAL_SCRATCH/ADRC/ADRC59-164/To_Be_Sorted/ADRC59-164_1J.ndpi\n",
      "Openslide returned an error /GLOBAL_SCRATCH/ADRC/ADRC59-164/To_Be_Sorted/ADRC59-164_1J.ndpi\n",
      "SHIT IT DIED!\n",
      "UNABLE TO OPEN FILE?? /GLOBAL_SCRATCH/ADRC/ADRC59-164/To_Be_Sorted/ADRC59-164_1J.ndpi\n",
      "\u001b[KTotal Processed: 115  Newly Processed: 0 Dup Slides or Already Loaded: 0  RESCANNED Slides 0ADRC56-18 is being processed /GLOBAL_SCRATCH/ADRC/ADRC56-18\n",
      "78 SVS or NDPI files were located\n",
      "\u001b[KTotal Processed: 78  Newly Processed: 0 Dup Slides or Already Loaded: 0  RESCANNED Slides 0ADRC59-81 is being processed /GLOBAL_SCRATCH/ADRC/ADRC59-81\n",
      "126 SVS or NDPI files were located\n",
      "\u001b[KTotal Processed: 126  Newly Processed: 0 Dup Slides or Already Loaded: 0  RESCANNED Slides 0ADRC62-110 is being processed /GLOBAL_SCRATCH/ADRC/ADRC62-110\n",
      "1 SVS or NDPI files were located\n",
      "\u001b[KTotal Processed: 1  Newly Processed: 0 Dup Slides or Already Loaded: 0  RESCANNED Slides 0ADRC61-143 is being processed /GLOBAL_SCRATCH/ADRC/ADRC61-143\n",
      "106 SVS or NDPI files were located\n",
      "\u001b[KTotal Processed: 106  Newly Processed: 0 Dup Slides or Already Loaded: 0  RESCANNED Slides 0ADRC47-60 is being processed /GLOBAL_SCRATCH/ADRC/ADRC47-60\n",
      "20 SVS or NDPI files were located\n",
      "\u001b[KTotal Processed: 20  Newly Processed: 0 Dup Slides or Already Loaded: 0  RESCANNED Slides 0ADRC62-6 is being processed /GLOBAL_SCRATCH/ADRC/ADRC62-6\n",
      "92 SVS or NDPI files were located\n",
      "\u001b[KTotal Processed: 92  Newly Processed: 0 Dup Slides or Already Loaded: 0  RESCANNED Slides 0"
     ]
    },
    {
     "name": "stderr",
     "output_type": "stream",
     "text": [
      " (u\"Can't validate JPEG for directory 0: Expected marker at 4294972165, found none\",)\n",
      "Verify failed with:"
     ]
    },
    {
     "name": "stdout",
     "output_type": "stream",
     "text": [
      "ADRC60-48 is being processed /GLOBAL_SCRATCH/ADRC/ADRC60-48\n",
      "96 SVS or NDPI files were located\n",
      "Openslide returned an error /GLOBAL_SCRATCH/ADRC/ADRC60-48/ADRC60-48_1B_AB.svs\n",
      "Openslide returned an error /GLOBAL_SCRATCH/ADRC/ADRC60-48/ADRC60-48_1B_AB.svs\n",
      "SHIT IT DIED!\n",
      "UNABLE TO OPEN FILE?? /GLOBAL_SCRATCH/ADRC/ADRC60-48/ADRC60-48_1B_AB.svs\n",
      "\u001b[KTotal Processed: 96  Newly Processed: 0 Dup Slides or Already Loaded: 0  RESCANNED Slides 0ADRC61-97 is being processed /GLOBAL_SCRATCH/ADRC/ADRC61-97\n",
      "98 SVS or NDPI files were located\n",
      "\u001b[KTotal Processed: 98  Newly Processed: 0 Dup Slides or Already Loaded: 0  RESCANNED Slides 0ADRC62-64 is being processed /GLOBAL_SCRATCH/ADRC/ADRC62-64\n",
      "26 SVS or NDPI files were located\n",
      "\u001b[KTotal Processed: 26  Newly Processed: 0 Dup Slides or Already Loaded: 0  RESCANNED Slides 0ADRC54-125 is being processed /GLOBAL_SCRATCH/ADRC/ADRC54-125\n",
      "56 SVS or NDPI files were located\n",
      "\u001b[KTotal Processed: 56  Newly Processed: 0 Dup Slides or Already Loaded: 0  RESCANNED Slides 0newcerebptstoload is being processed /GLOBAL_SCRATCH/ADRC/newcerebptstoload\n",
      "19 SVS or NDPI files were located\n",
      "\u001b[KTotal Processed: 19  Newly Processed: 0 Dup Slides or Already Loaded: 0  RESCANNED Slides 0ADRC61-71 is being processed /GLOBAL_SCRATCH/ADRC/ADRC61-71\n",
      "105 SVS or NDPI files were located\n",
      "\u001b[KTotal Processed: 105  Newly Processed: 0 Dup Slides or Already Loaded: 0  RESCANNED Slides 0ADRC60-110 is being processed /GLOBAL_SCRATCH/ADRC/ADRC60-110\n",
      "87 SVS or NDPI files were located\n",
      "\u001b[KTotal Processed: 87  Newly Processed: 0 Dup Slides or Already Loaded: 0  RESCANNED Slides 0ADRC61-20 is being processed /GLOBAL_SCRATCH/ADRC/ADRC61-20\n",
      "91 SVS or NDPI files were located\n",
      "\u001b[KTotal Processed: 91  Newly Processed: 0 Dup Slides or Already Loaded: 0  RESCANNED Slides 0ADRC56-06 is being processed /GLOBAL_SCRATCH/ADRC/ADRC56-06\n",
      "129 SVS or NDPI files were located\n",
      "\u001b[KTotal Processed: 129  Newly Processed: 0 Dup Slides or Already Loaded: 0  RESCANNED Slides 0ADRC53-55 is being processed /GLOBAL_SCRATCH/ADRC/ADRC53-55\n",
      "11 SVS or NDPI files were located\n",
      "\u001b[KTotal Processed: 11  Newly Processed: 0 Dup Slides or Already Loaded: 0  RESCANNED Slides 0ADRC59-8 is being processed /GLOBAL_SCRATCH/ADRC/ADRC59-8\n",
      "90 SVS or NDPI files were located\n",
      "\u001b[KTotal Processed: 90  Newly Processed: 0 Dup Slides or Already Loaded: 0  RESCANNED Slides 0ADRC60-137 is being processed /GLOBAL_SCRATCH/ADRC/ADRC60-137\n",
      "86 SVS or NDPI files were located\n",
      "\u001b[KTotal Processed: 86  Newly Processed: 0 Dup Slides or Already Loaded: 0  RESCANNED Slides 0ADRC60-160 is being processed /GLOBAL_SCRATCH/ADRC/ADRC60-160\n",
      "118 SVS or NDPI files were located\n",
      "\u001b[KTotal Processed: 118  Newly Processed: 0 Dup Slides or Already Loaded: 0  RESCANNED Slides 0ADRC61-70 is being processed /GLOBAL_SCRATCH/ADRC/ADRC61-70\n",
      "99 SVS or NDPI files were located\n",
      "\u001b[KTotal Processed: 99  Newly Processed: 0 Dup Slides or Already Loaded: 0  RESCANNED Slides 0ADRC61-75 is being processed /GLOBAL_SCRATCH/ADRC/ADRC61-75\n",
      "100 SVS or NDPI files were located\n",
      "\u001b[KTotal Processed: 100  Newly Processed: 0 Dup Slides or Already Loaded: 0  RESCANNED Slides 0ADRC55-100 is being processed /GLOBAL_SCRATCH/ADRC/ADRC55-100\n",
      "1 SVS or NDPI files were located\n",
      "\u001b[KTotal Processed: 1  Newly Processed: 0 Dup Slides or Already Loaded: 0  RESCANNED Slides 0ADRC56-160 is being processed /GLOBAL_SCRATCH/ADRC/ADRC56-160\n",
      "22 SVS or NDPI files were located\n",
      "\u001b[KTotal Processed: 22  Newly Processed: 0 Dup Slides or Already Loaded: 0  RESCANNED Slides 0ADRC51-10 is being processed /GLOBAL_SCRATCH/ADRC/ADRC51-10\n",
      "2 SVS or NDPI files were located\n",
      "\u001b[KTotal Processed: 2  Newly Processed: 0 Dup Slides or Already Loaded: 0  RESCANNED Slides 0ADRC39-44 is being processed /GLOBAL_SCRATCH/ADRC/ADRC39-44\n",
      "8 SVS or NDPI files were located\n",
      "\u001b[KTotal Processed: 8  Newly Processed: 0 Dup Slides or Already Loaded: 0  RESCANNED Slides 0ADRC58-146 is being processed /GLOBAL_SCRATCH/ADRC/ADRC58-146\n",
      "15 SVS or NDPI files were located\n",
      "\u001b[KTotal Processed: 15  Newly Processed: 0 Dup Slides or Already Loaded: 0  RESCANNED Slides 0ADRC60-88 is being processed /GLOBAL_SCRATCH/ADRC/ADRC60-88\n",
      "85 SVS or NDPI files were located\n",
      "\u001b[KTotal Processed: 85  Newly Processed: 0 Dup Slides or Already Loaded: 0  RESCANNED Slides 0ADRC61-41 is being processed /GLOBAL_SCRATCH/ADRC/ADRC61-41\n",
      "98 SVS or NDPI files were located\n",
      "\u001b[KTotal Processed: 98  Newly Processed: 0 Dup Slides or Already Loaded: 0  RESCANNED Slides 0ADRC62-62 is being processed /GLOBAL_SCRATCH/ADRC/ADRC62-62\n",
      "53 SVS or NDPI files were located\n",
      "\u001b[KTotal Processed: 18  Newly Processed: 0 Dup Slides or Already Loaded: 0  RESCANNED Slides 0"
     ]
    },
    {
     "name": "stderr",
     "output_type": "stream",
     "text": [
      " (u'Unsupported TIFF compression: 33005',)\n",
      "Verify failed with:"
     ]
    },
    {
     "name": "stdout",
     "output_type": "stream",
     "text": [
      "Openslide returned an error /GLOBAL_SCRATCH/ADRC/ADRC62-62/Biels/ADRC62-62_A1_BIELS.ndpi\n",
      "Openslide returned an error /GLOBAL_SCRATCH/ADRC/ADRC62-62/Biels/ADRC62-62_A1_BIELS.ndpi\n",
      "SHIT IT DIED!\n",
      "UNABLE TO OPEN FILE?? /GLOBAL_SCRATCH/ADRC/ADRC62-62/Biels/ADRC62-62_A1_BIELS.ndpi\n",
      "\u001b[KTotal Processed: 53  Newly Processed: 0 Dup Slides or Already Loaded: 0  RESCANNED Slides 0ADRC61-112 is being processed /GLOBAL_SCRATCH/ADRC/ADRC61-112\n",
      "84 SVS or NDPI files were located\n",
      "\u001b[KTotal Processed: 28  Newly Processed: 0 Dup Slides or Already Loaded: 0  RESCANNED Slides 0"
     ]
    },
    {
     "name": "stderr",
     "output_type": "stream",
     "text": [
      " (u\"Can't validate JPEG for directory 0: Expected marker at 4294972165, found none\",)\n",
      "Verify failed with:"
     ]
    },
    {
     "name": "stdout",
     "output_type": "stream",
     "text": [
      "Openslide returned an error /GLOBAL_SCRATCH/ADRC/ADRC61-112/Biels/ADRC61-112_A6_biels.ndpi\n",
      "Openslide returned an error /GLOBAL_SCRATCH/ADRC/ADRC61-112/Biels/ADRC61-112_A6_biels.ndpi\n",
      "SHIT IT DIED!\n",
      "UNABLE TO OPEN FILE?? /GLOBAL_SCRATCH/ADRC/ADRC61-112/Biels/ADRC61-112_A6_biels.ndpi\n",
      "\u001b[KTotal Processed: 84  Newly Processed: 0 Dup Slides or Already Loaded: 0  RESCANNED Slides 0ADRC55-194 is being processed /GLOBAL_SCRATCH/ADRC/ADRC55-194\n",
      "82 SVS or NDPI files were located\n",
      "\u001b[KTotal Processed: 82  Newly Processed: 0 Dup Slides or Already Loaded: 0  RESCANNED Slides 0ADRC60-83 is being processed /GLOBAL_SCRATCH/ADRC/ADRC60-83\n",
      "1 SVS or NDPI files were located\n",
      "\u001b[KTotal Processed: 1  Newly Processed: 0 Dup Slides or Already Loaded: 0  RESCANNED Slides 0ADRC50-41 is being processed /GLOBAL_SCRATCH/ADRC/ADRC50-41\n",
      "3 SVS or NDPI files were located\n",
      "\u001b[KTotal Processed: 3  Newly Processed: 0 Dup Slides or Already Loaded: 0  RESCANNED Slides 0ADRC60-38 is being processed /GLOBAL_SCRATCH/ADRC/ADRC60-38\n",
      "120 SVS or NDPI files were located\n",
      "\u001b[KTotal Processed: 120  Newly Processed: 0 Dup Slides or Already Loaded: 0  RESCANNED Slides 0ADRC61-60 is being processed /GLOBAL_SCRATCH/ADRC/ADRC61-60\n",
      "95 SVS or NDPI files were located\n",
      "\u001b[KTotal Processed: 95  Newly Processed: 0 Dup Slides or Already Loaded: 0  RESCANNED Slides 0ADRC62-32 is being processed /GLOBAL_SCRATCH/ADRC/ADRC62-32\n",
      "111 SVS or NDPI files were located\n",
      "\u001b[KTotal Processed: 111  Newly Processed: 0 Dup Slides or Already Loaded: 0  RESCANNED Slides 0ADRC54-76 is being processed /GLOBAL_SCRATCH/ADRC/ADRC54-76\n",
      "11 SVS or NDPI files were located\n",
      "\u001b[KTotal Processed: 11  Newly Processed: 0 Dup Slides or Already Loaded: 0  RESCANNED Slides 0NickSlidesFeb20 is being processed /GLOBAL_SCRATCH/ADRC/NickSlidesFeb20\n",
      "0 SVS or NDPI files were located\n",
      "ADRC59-35 is being processed /GLOBAL_SCRATCH/ADRC/ADRC59-35\n",
      "12 SVS or NDPI files were located\n",
      "\u001b[KTotal Processed: 12  Newly Processed: 0 Dup Slides or Already Loaded: 0  RESCANNED Slides 0ADRC47-61 is being processed /GLOBAL_SCRATCH/ADRC/ADRC47-61\n",
      "3 SVS or NDPI files were located\n",
      "\u001b[KTotal Processed: 3  Newly Processed: 0 Dup Slides or Already Loaded: 0  RESCANNED Slides 0ADRC55-108 is being processed /GLOBAL_SCRATCH/ADRC/ADRC55-108\n",
      "16 SVS or NDPI files were located\n",
      "\u001b[KTotal Processed: 16  Newly Processed: 0 Dup Slides or Already Loaded: 0  RESCANNED Slides 0ADRC61-83 is being processed /GLOBAL_SCRATCH/ADRC/ADRC61-83\n",
      "61 SVS or NDPI files were located\n",
      "\u001b[KTotal Processed: 61  Newly Processed: 0 Dup Slides or Already Loaded: 0  RESCANNED Slides 0ADRC51-94 is being processed /GLOBAL_SCRATCH/ADRC/ADRC51-94\n",
      "7 SVS or NDPI files were located\n",
      "\u001b[KTotal Processed: 7  Newly Processed: 0 Dup Slides or Already Loaded: 0  RESCANNED Slides 0ADRC59-91 is being processed /GLOBAL_SCRATCH/ADRC/ADRC59-91\n",
      "111 SVS or NDPI files were located\n",
      "\u001b[KTotal Processed: 23  Newly Processed: 0 Dup Slides or Already Loaded: 0  RESCANNED Slides 0"
     ]
    },
    {
     "name": "stderr",
     "output_type": "stream",
     "text": [
      " (u\"Can't validate JPEG for directory 0: Expected marker at 4294972004, found none\",)\n",
      "/home/dagutman/anaconda2/envs/ADRCFlask/lib/python2.7/site-packages/PIL/TiffImagePlugin.py:694: UserWarning: Corrupt EXIF data.  Expecting to read 2 bytes but only got 0. \n",
      "  warnings.warn(str(msg))\n"
     ]
    },
    {
     "name": "stdout",
     "output_type": "stream",
     "text": [
      "Openslide returned an error om tje StandardError block /GLOBAL_SCRATCH/ADRC/ADRC59-91/HE/ADRC59-91_1F_HE.ndpi\n",
      "SHIT IT DIED!\n",
      "insert into `corrupt_or_unreadable_ndpi_files` (full_file_name,filesize) Values ('/GLOBAL_SCRATCH/ADRC/ADRC59-91/HE/ADRC59-91_1F_HE.ndpi',2710044672) \n",
      "UNABLE TO OPEN FILE?? /GLOBAL_SCRATCH/ADRC/ADRC59-91/HE/ADRC59-91_1F_HE.ndpi\n",
      "\u001b[KTotal Processed: 111  Newly Processed: 0 Dup Slides or Already Loaded: 0  RESCANNED Slides 0ADRC58-119 is being processed /GLOBAL_SCRATCH/ADRC/ADRC58-119\n",
      "25 SVS or NDPI files were located\n",
      "\u001b[KTotal Processed: 25  Newly Processed: 0 Dup Slides or Already Loaded: 0  RESCANNED Slides 0ADRC53-95 is being processed /GLOBAL_SCRATCH/ADRC/ADRC53-95\n",
      "13 SVS or NDPI files were located\n",
      "\u001b[KTotal Processed: 13  Newly Processed: 0 Dup Slides or Already Loaded: 0  RESCANNED Slides 0ADRC53-385 is being processed /GLOBAL_SCRATCH/ADRC/ADRC53-385\n",
      "7 SVS or NDPI files were located\n",
      "\u001b[KTotal Processed: 7  Newly Processed: 0 Dup Slides or Already Loaded: 0  RESCANNED Slides 0ADRC60-151 is being processed /GLOBAL_SCRATCH/ADRC/ADRC60-151\n",
      "109 SVS or NDPI files were located\n",
      "\u001b[KTotal Processed: 109  Newly Processed: 0 Dup Slides or Already Loaded: 0  RESCANNED Slides 0ADRC56-52 is being processed /GLOBAL_SCRATCH/ADRC/ADRC56-52\n",
      "10 SVS or NDPI files were located\n",
      "\u001b[KTotal Processed: 10  Newly Processed: 0 Dup Slides or Already Loaded: 0  RESCANNED Slides 0ADRC60-81 is being processed /GLOBAL_SCRATCH/ADRC/ADRC60-81\n",
      "205 SVS or NDPI files were located\n",
      "\u001b[KTotal Processed: 86  Newly Processed: 0 Dup Slides or Already Loaded: 0  RESCANNED Slides 0"
     ]
    },
    {
     "name": "stderr",
     "output_type": "stream",
     "text": [
      "Verify failed with: (\"cannot identify image file '/GLOBAL_SCRATCH/ADRC/ADRC59-91/HE/ADRC59-91_1F_HE.ndpi'\",)\n",
      "Verify failed with:"
     ]
    },
    {
     "name": "stdout",
     "output_type": "stream",
     "text": [
      "Openslide returned an error /GLOBAL_SCRATCH/ADRC/ADRC60-81/HE/CHECK_FOR_DUPS/A10-81_1F_BLANK.ndpi\n",
      "Openslide returned an error /GLOBAL_SCRATCH/ADRC/ADRC60-81/HE/CHECK_FOR_DUPS/A10-81_1F_BLANK.ndpi\n",
      "SHIT IT DIED!\n",
      "UNABLE TO OPEN FILE?? /GLOBAL_SCRATCH/ADRC/ADRC60-81/HE/CHECK_FOR_DUPS/A10-81_1F_BLANK.ndpi\n",
      "\u001b[KTotal Processed: 205  Newly Processed: 0 Dup Slides or Already Loaded: 0  RESCANNED Slides 0ADRC50-21 is being processed /GLOBAL_SCRATCH/ADRC/ADRC50-21\n",
      "16 SVS or NDPI files were located\n",
      "\u001b[KTotal Processed: 16  Newly Processed: 0 Dup Slides or Already Loaded: 0  RESCANNED Slides 0ADRC50-14 is being processed /GLOBAL_SCRATCH/ADRC/ADRC50-14\n",
      "49 SVS or NDPI files were located\n",
      "\u001b[KTotal Processed: 49  Newly Processed: 0 Dup Slides or Already Loaded: 0  RESCANNED Slides 0ADRC50-19 is being processed /GLOBAL_SCRATCH/ADRC/ADRC50-19\n",
      "19 SVS or NDPI files were located\n",
      "\u001b[KTotal Processed: 19  Newly Processed: 0 Dup Slides or Already Loaded: 0  RESCANNED Slides 0ADRC60-56 is being processed /GLOBAL_SCRATCH/ADRC/ADRC60-56\n",
      "94 SVS or NDPI files were located\n",
      "\u001b[KTotal Processed: 94  Newly Processed: 0 Dup Slides or Already Loaded: 0  RESCANNED Slides 0ADRC51-152 is being processed /GLOBAL_SCRATCH/ADRC/ADRC51-152\n",
      "7 SVS or NDPI files were located\n",
      "\u001b[KTotal Processed: 7  Newly Processed: 0 Dup Slides or Already Loaded: 0  RESCANNED Slides 0ADRC61-59 is being processed /GLOBAL_SCRATCH/ADRC/ADRC61-59\n",
      "92 SVS or NDPI files were located\n",
      "\u001b[KTotal Processed: 92  Newly Processed: 0 Dup Slides or Already Loaded: 0  RESCANNED Slides 0ADRC58-162 is being processed /GLOBAL_SCRATCH/ADRC/ADRC58-162\n",
      "10 SVS or NDPI files were located\n",
      "\u001b[KTotal Processed: 10  Newly Processed: 0 Dup Slides or Already Loaded: 0  RESCANNED Slides 0ADRC54-99 is being processed /GLOBAL_SCRATCH/ADRC/ADRC54-99\n",
      "13 SVS or NDPI files were located\n",
      "\u001b[KTotal Processed: 13  Newly Processed: 0 Dup Slides or Already Loaded: 0  RESCANNED Slides 0ADRC62-85 is being processed /GLOBAL_SCRATCH/ADRC/ADRC62-85\n",
      "113 SVS or NDPI files were located\n",
      "\u001b[KTotal Processed: 44  Newly Processed: 0 Dup Slides or Already Loaded: 0  RESCANNED Slides 0"
     ]
    },
    {
     "name": "stderr",
     "output_type": "stream",
     "text": [
      " (u\"Can't validate JPEG for directory 0: Expected marker at 4294971805, found none\",)\n",
      "Verify failed with:"
     ]
    },
    {
     "name": "stdout",
     "output_type": "stream",
     "text": [
      "Openslide returned an error /GLOBAL_SCRATCH/ADRC/ADRC62-85/Biels/ADRC62-85_A11_biels.ndpi\n",
      "Openslide returned an error /GLOBAL_SCRATCH/ADRC/ADRC62-85/Biels/ADRC62-85_A11_biels.ndpi\n",
      "SHIT IT DIED!\n",
      "UNABLE TO OPEN FILE?? /GLOBAL_SCRATCH/ADRC/ADRC62-85/Biels/ADRC62-85_A11_biels.ndpi\n",
      "\u001b[KTotal Processed: 46  Newly Processed: 0 Dup Slides or Already Loaded: 0  RESCANNED Slides 0Openslide returned an error /GLOBAL_SCRATCH/ADRC/ADRC62-85/Biels/ADRC62-85_A1_biels_ihp.ndpi\n",
      "Openslide returned an error /GLOBAL_SCRATCH/ADRC/ADRC62-85/Biels/ADRC62-85_A1_biels_ihp.ndpi\n",
      "SHIT IT DIED!\n",
      "UNABLE TO OPEN FILE?? /GLOBAL_SCRATCH/ADRC/ADRC62-85/Biels/ADRC62-85_A1_biels_ihp.ndpi\n",
      "\u001b[KTotal Processed: 113  Newly Processed: 0 Dup Slides or Already Loaded: 0  RESCANNED Slides 0Neuro_Degen_Training_Slides is being processed /GLOBAL_SCRATCH/ADRC/Neuro_Degen_Training_Slides\n",
      "152 SVS or NDPI files were located\n",
      "\u001b[KTotal Processed: 143  Newly Processed: 0 Dup Slides or Already Loaded: 0  RESCANNED Slides 0"
     ]
    },
    {
     "name": "stderr",
     "output_type": "stream",
     "text": [
      " (u\"Can't validate JPEG for directory 0: Expected marker at 4294971985, found none\",)\n",
      "Verify failed with: (u\"Can't validate JPEG for directory 0: Expected marker at 4294972165, found none\",)\n",
      "Verify failed with:"
     ]
    },
    {
     "name": "stdout",
     "output_type": "stream",
     "text": [
      "Openslide returned an error /GLOBAL_SCRATCH/ADRC/Neuro_Degen_Training_Slides/PSP-27.ndpi\n",
      "Openslide returned an error /GLOBAL_SCRATCH/ADRC/Neuro_Degen_Training_Slides/PSP-27.ndpi\n",
      "SHIT IT DIED!\n",
      "UNABLE TO OPEN FILE?? /GLOBAL_SCRATCH/ADRC/Neuro_Degen_Training_Slides/PSP-27.ndpi\n",
      "\u001b[KTotal Processed: 152  Newly Processed: 0 Dup Slides or Already Loaded: 0  RESCANNED Slides 0ADRC59-155 is being processed /GLOBAL_SCRATCH/ADRC/ADRC59-155\n",
      "96 SVS or NDPI files were located\n",
      "\u001b[KTotal Processed: 96  Newly Processed: 0 Dup Slides or Already Loaded: 0  RESCANNED Slides 0ADRC61-81 is being processed /GLOBAL_SCRATCH/ADRC/ADRC61-81\n",
      "86 SVS or NDPI files were located\n",
      "\u001b[KTotal Processed: 86  Newly Processed: 0 Dup Slides or Already Loaded: 0  RESCANNED Slides 0ADRC62-120 is being processed /GLOBAL_SCRATCH/ADRC/ADRC62-120\n",
      "106 SVS or NDPI files were located\n",
      "\u001b[KTotal Processed: 10  Newly Processed: 0 Dup Slides or Already Loaded: 0  RESCANNED Slides 0"
     ]
    },
    {
     "name": "stderr",
     "output_type": "stream",
     "text": [
      " (u\"Can't validate JPEG for directory 0: Expected marker at 4294971812, found none\",)\n",
      "Verify failed with:"
     ]
    },
    {
     "name": "stdout",
     "output_type": "stream",
     "text": [
      "Openslide returned an error /GLOBAL_SCRATCH/ADRC/ADRC62-120/Uncategorized/ADRC62-120_A4_blank.ndpi\n",
      "Openslide returned an error /GLOBAL_SCRATCH/ADRC/ADRC62-120/Uncategorized/ADRC62-120_A4_blank.ndpi\n",
      "SHIT IT DIED!\n",
      "UNABLE TO OPEN FILE?? /GLOBAL_SCRATCH/ADRC/ADRC62-120/Uncategorized/ADRC62-120_A4_blank.ndpi\n",
      "\u001b[KTotal Processed: 51  Newly Processed: 0 Dup Slides or Already Loaded: 0  RESCANNED Slides 0"
     ]
    },
    {
     "name": "stderr",
     "output_type": "stream",
     "text": [
      " (u\"Can't validate JPEG for directory 0: Expected marker at 4294972165, found none\",)\n",
      "Verify failed with:"
     ]
    },
    {
     "name": "stdout",
     "output_type": "stream",
     "text": [
      "Openslide returned an error /GLOBAL_SCRATCH/ADRC/ADRC62-120/Biels/ADRC62-120_A3_BIELS.ndpi\n",
      "Openslide returned an error /GLOBAL_SCRATCH/ADRC/ADRC62-120/Biels/ADRC62-120_A3_BIELS.ndpi\n",
      "SHIT IT DIED!\n",
      "UNABLE TO OPEN FILE?? /GLOBAL_SCRATCH/ADRC/ADRC62-120/Biels/ADRC62-120_A3_BIELS.ndpi\n",
      "\u001b[KTotal Processed: 106  Newly Processed: 0 Dup Slides or Already Loaded: 0  RESCANNED Slides 0ADRC54-155 is being processed /GLOBAL_SCRATCH/ADRC/ADRC54-155\n",
      "25 SVS or NDPI files were located\n",
      "\u001b[KTotal Processed: 25  Newly Processed: 0 Dup Slides or Already Loaded: 0  RESCANNED Slides 0Miscellaneous is being processed /GLOBAL_SCRATCH/ADRC/Miscellaneous\n",
      "31 SVS or NDPI files were located\n",
      "\u001b[KTotal Processed: 31  Newly Processed: 0 Dup Slides or Already Loaded: 0  RESCANNED Slides 0ADRC60-129 is being processed /GLOBAL_SCRATCH/ADRC/ADRC60-129\n",
      "112 SVS or NDPI files were located\n",
      "\u001b[KTotal Processed: 112  Newly Processed: 0 Dup Slides or Already Loaded: 0  RESCANNED Slides 0ADRC53-138 is being processed /GLOBAL_SCRATCH/ADRC/ADRC53-138\n",
      "8 SVS or NDPI files were located\n",
      "\u001b[KTotal Processed: 8  Newly Processed: 0 Dup Slides or Already Loaded: 0  RESCANNED Slides 0ADRC57-48 is being processed /GLOBAL_SCRATCH/ADRC/ADRC57-48\n",
      "23 SVS or NDPI files were located\n",
      "\u001b[KTotal Processed: 23  Newly Processed: 0 Dup Slides or Already Loaded: 0  RESCANNED Slides 0ADRC60-63 is being processed /GLOBAL_SCRATCH/ADRC/ADRC60-63\n",
      "82 SVS or NDPI files were located\n",
      "\u001b[KTotal Processed: 82  Newly Processed: 0 Dup Slides or Already Loaded: 0  RESCANNED Slides 0NickMarch18 is being processed /GLOBAL_SCRATCH/ADRC/NickMarch18\n",
      "0 SVS or NDPI files were located\n",
      "ADRC54-48 is being processed /GLOBAL_SCRATCH/ADRC/ADRC54-48\n",
      "1 SVS or NDPI files were located\n",
      "\u001b[KTotal Processed: 1  Newly Processed: 0 Dup Slides or Already Loaded: 0  RESCANNED Slides 0ADRC51-33 is being processed /GLOBAL_SCRATCH/ADRC/ADRC51-33\n",
      "16 SVS or NDPI files were located\n",
      "\u001b[KTotal Processed: 16  Newly Processed: 0 Dup Slides or Already Loaded: 0  RESCANNED Slides 0"
     ]
    },
    {
     "name": "stderr",
     "output_type": "stream",
     "text": [
      " (u\"Can't validate JPEG for directory 0: Expected marker at 4294972345, found none\",)\n"
     ]
    }
   ],
   "source": [
    "### So this creates a document WITHIN the current database to store raw information about the slides\n",
    "## Now that I think about this, I really should not store the filename but the File Hash as I.. want to change the filenames\n",
    "\n",
    "for sd in subj_dir_list:\n",
    "    print sd,\"is being processed\",\n",
    "    curr_svs_slide_list = find_rawslide_lists(  os.path.join(slide_root,sd)  )\n",
    "    slides_processed = newly_processed = dup_slide = rescanned_slides =  0\n",
    "    for sld in curr_svs_slide_list:\n",
    "\n",
    "        slide_name = os.path.basename(sld)\n",
    "        qry = dsa_slide_db['RawSlideData'].find_one( {'slide_name':slide_name})\n",
    "        #print qry\n",
    "        if not qry:\n",
    "            fs = os.path.getsize(sld)\n",
    "            #md5Checksum = dsa.md5sum(sld)\n",
    "            (openslide_could_open, width, height, filesize, orig_resolution, slide_name,md5, sld_properties) = cdsa_helpers.openslide_test_file_mongo( sld, 'ndpi', client)\n",
    "            if openslide_could_open:\n",
    "                prep_type = 'Unknown'\n",
    "                slide_metadata = { 'slide_w_path': sld, 'slide_name': slide_name, 'file_size':fs, 'width':width, 'height':height,\n",
    "                                 'orig_resolution': orig_resolution, 'sld_properties': cdsa_helpers.clean_openslide_keys ( sld_properties), 'slide_md5': md5, 'prep_type': prep_type\n",
    "                                 }\n",
    "                dsa_slide_db['RawSlideData'].insert_one(slide_metadata)\n",
    "                newly_processed +=1 \n",
    "            else:\n",
    "                print \"UNABLE TO OPEN FILE??\",sld\n",
    "                ###Need to flag/load this in to an error database\n",
    "        else:\n",
    "            fs = os.path.getsize(sld)\n",
    "            ### I had some weird fringe cases where the filesize was different.. but the filename was the same... so I needed to flag these\n",
    "            ### This was the least expensive operation I had to find a \"weird\" file..\n",
    "        slides_processed +=1        \n",
    "        output = \"Total Processed: %d  Newly Processed: %d Dup Slides or Already Loaded: %d  RESCANNED Slides %d\" % (slides_processed, newly_processed, dup_slide, rescanned_slides )\n",
    "        dsa.LinePrinter(output)\n"
   ]
  },
  {
   "cell_type": "code",
   "execution_count": null,
   "metadata": {
    "collapsed": false
   },
   "outputs": [],
   "source": [
    "#dsa_slide_db['DSA_Slide_Data'].delete_many({})\n",
    "#print dsa_slide_db['DSA_Slide_Data'].count()"
   ]
  },
  {
   "cell_type": "code",
   "execution_count": null,
   "metadata": {
    "collapsed": true
   },
   "outputs": [],
   "source": [
    "### I now want to reformat all of this data to make it more useful for DSA ..."
   ]
  },
  {
   "cell_type": "code",
   "execution_count": 24,
   "metadata": {
    "collapsed": false
   },
   "outputs": [],
   "source": [
    "## Since this is pretty easy to recreate, I'm going to empty the current database\n",
    "dsa_slide_db['DSA_Slide_Data'].delete_many({}) ### DELETE THE CURRENT DSA COLLECTION SINCE I AM GOING TO UPDATE IT\n",
    "all_slides = dsa_slide_db['RawSlideData'].find()\n",
    "\n",
    "\n",
    "FacetSearchFields = {}\n",
    "FacetSearchFields['Annotated'] = False\n",
    "FacetSearchFields['Annotated'] = False\n",
    "\n",
    "\n",
    "for s in all_slides:\n",
    "    slide_dict = {}\n",
    "    #pt_id = s['slide_w_path'].split('/')[-1]\n",
    "    slideGroup = s['slide_w_path'].split('/')[-3]  ### THIS WILL ALMOST CERTAINLY CHANGE FOR EACH IMAGE SET\n",
    "    pt_id = s['slide_w_path'].split('/')[-1].split('.')[0]\n",
    "    \n",
    "    stain_type = 'UNK'\n",
    "    stain_type = s['slide_w_path'].split('/')[-2]\n",
    "\n",
    "    slide_dict = s.copy()  ### BEWARE!!!! I WAS originally passing a reference not a copy\n",
    "    slide_dict.pop('_id',None)\n",
    "    \n",
    "    slide_dict['pt_id'] = pt_id\n",
    "    slide_dict['stain_type'] = stain_type\n",
    "    ### Obfuscating the global file path so everything is relative to some base path for the archive/\n",
    "    slide_dict['thumbnail_image'] = '/thumbnail/' + s['slide_w_path'].replace(slide_root,'')\n",
    "    slide_dict['iip_slide_w_path'] = \"/fcgi-bin/iipsrvOpenslide.fcgi?DeepZoom=\" +s['slide_w_path']+'.dzi'\n",
    "\n",
    "    slide_dict['slideLabel_image'] = '/macroImage/' + s['slide_w_path'].replace(slide_root,'')\n",
    "    \n",
    "    slide_dict['slide_w_path'] = '/DZIMS/' + s['slide_w_path'].replace(slide_root,'')+'.dzi'\n",
    "    slide_dict['slideGroup'] = slideGroup\n",
    "    slide_dict['FacetSet'] = FacetSearchFields \n",
    "    slide_dict['slideLabel_image'] = '/labelImage/' + s['slide_w_path'].replace(slide_root,'')\n",
    "\n",
    "    slide_dict['iip_thumbnail'] =  \"/fcgi-bin/iipsrvOpenslide.fcgi??FIF=\" +s['slide_w_path']+'&WID=200&CVT=jpeg'\n",
    "    ## See fi I can find an aperioFile to match\n",
    "    \n",
    "    sln = slide_dict['slide_name'].replace('.ndpi','')\n",
    "    if sln in xml_data_set:\n",
    "\n",
    "        slide_dict['HasAperioXML'] = True\n",
    "        slide_dict['AperioXMLUrl'] = xml_data_set[sln]['webPath']\n",
    "    else:\n",
    "        slide_dict['HasAperioXML'] = False\n",
    "\n",
    "\n",
    "    \n",
    "    dsa_slide_db['DSA_Slide_Data'].insert_one(slide_dict)"
   ]
  },
  {
   "cell_type": "code",
   "execution_count": null,
   "metadata": {
    "collapsed": true
   },
   "outputs": [],
   "source": []
  },
  {
   "cell_type": "code",
   "execution_count": 23,
   "metadata": {
    "collapsed": false
   },
   "outputs": [
    {
     "data": {
      "text/plain": [
       "{u'AperioXMLUrl': u'xmls/ADRC60-129/ADRC60-129_1F_Abeta.xml',\n",
       " u'FacetSet': {u'Annotated': False},\n",
       " u'HasAperioXML': True,\n",
       " u'_id': ObjectId('5755e6012f9b2e52995970a5'),\n",
       " u'file_size': 1688107315,\n",
       " u'height': 81408,\n",
       " u'iip_slide_w_path': u'/fcgi-bin/iipsrvOpenslide.fcgi?DeepZoom=/GLOBAL_SCRATCH/ADRC/ADRC60-129/aBeta/ADRC60-129_1F_Abeta.ndpi.dzi',\n",
       " u'orig_resolution': 40,\n",
       " u'prep_type': u'Unknown',\n",
       " u'pt_id': u'ADRC60-129_1F_Abeta',\n",
       " u'sld_properties': {u'hamamatsu_AHEX[0]': u'74270C57AC1B78130C3FAC0B781B083FAC0D7421083FAC0F70210847A40D703F086BA83370270847A41170230043A0137027084BA01B701F0843A4116C270C47A417781B0C47A80B742B1047AC177823104FAC197833104FA8237447186FB0396CB0',\n",
       "  u'hamamatsu_AHEX[0]_fluorescence': u'004F0057005B0037003F00470043003F0047004B003F004B004F004B004F00730073007F0057004B004F004F0043004F004F004B0053004700430047004B004B004F003F00470043005700470053004F00570057005F005700630073007B00830F60',\n",
       "  u'hamamatsu_AHEX[0]_ploidy': u'004F0057005B0037003F00470043003F0047004B003F004B004F004B004F00730073007F0057004B004F004F0043004F004F004B0053004700430047004B004B004F003F00470043005700470053004F00570057005F005700630073007B00830F60',\n",
       "  u'hamamatsu_AHEX[1]': u'7C2B1857B41D8413183FB40B801F143FB40F8023143FB0137C231447AC0F78411867B0337C271447AC1378271043A815782B144BA81B7C1F1843AC1378271847AC19801B1847AC0D802F2047B01B84272053B01D84371C53B02780472473B43D54FE',\n",
       "  u'hamamatsu_AHEX[1]_fluorescence': u'98271C5BB42398131C43B413981B1447B41794211447B0179021144FAC17903D146FB03B9027104FAC1990231047A81B9023104FA81F901D1447AC178C23144FAC1D941B144BAC1394251C47B01B981F1C53B01F982F1C53B027943F2473B43F954E',\n",
       "  u'hamamatsu_AHEX[1]_ploidy': u'98271C5BB42398131C43B413981B1447B41794211447B0179021144FAC17903D146FB03B9027104FAC1990231047A81B9023104FA81F901D1447AC178C23144FAC1D941B144BAC1394251C47B01B981F1C53B01F982F1C53B027943F2473B43F954E',\n",
       "  u'hamamatsu_AHEX[2]': u'004F0057005B0037003F00470043003F0047004B003F004B004F004B004F00730073007F0057004B004F004F0043004F004F004B0053004700430047004B004B004F003F00470043005700470053004F00570057005F005700630073007B00830F60',\n",
       "  u'hamamatsu_AHEX[2]_fluorescence': u'004F0057005B0037003F00470043003F0047004B003F004B004F004B004F00730073007F0057004B004F004F0043004F004F004B0053004700430047004B004B004F003F00470043005700470053004F00570057005F005700630073007B00830F60',\n",
       "  u'hamamatsu_AHEX[2]_ploidy': u'004F0057005B0037003F00470043003F0047004B003F004B004F004B004F00730073007F0057004B004F004F0043004F004F004B0053004700430047004B004B004F003F00470043005700470053004F00570057005F005700630073007B00830F60',\n",
       "  u'hamamatsu_Created': u'2009/11/10',\n",
       "  u'hamamatsu_MHLN[0]_24bit': u'_1357CJJHqKOOTjx',\n",
       "  u'hamamatsu_MHLN[0]_36bit': u'_1357GGEHqKOOTjx',\n",
       "  u'hamamatsu_MHLN[1]_24bit': u'_1357FHEHqKOOTjx',\n",
       "  u'hamamatsu_MHLN[1]_36bit': u'_1359DEEHqKOOTjx',\n",
       "  u'hamamatsu_MHLN[2]_24bit': u'_1357CJJHqKOOTjx',\n",
       "  u'hamamatsu_MHLN[2]_36bit': u'_1357DEEHqKOOTjx',\n",
       "  u'hamamatsu_Macro_S/N': u'1Y0257',\n",
       "  u'hamamatsu_NDP_S/N': u'1Y0203',\n",
       "  u'hamamatsu_Objective_Lens_Magnificant': u'35.16',\n",
       "  u'hamamatsu_PSHV': u'228',\n",
       "  u'hamamatsu_PSHV_10x': u'170',\n",
       "  u'hamamatsu_PSHV_40x': u'228',\n",
       "  u'hamamatsu_PSHV_ploidy': u'200',\n",
       "  u'hamamatsu_PSHV_ploidy_10x': u'140',\n",
       "  u'hamamatsu_Product': u'C9600-12',\n",
       "  u'hamamatsu_Reference': u'A10-129-1F_Abeta_10.27.10',\n",
       "  u'hamamatsu_SourceLens': u'40',\n",
       "  u'hamamatsu_Updated': u'2011/12/15',\n",
       "  u'hamamatsu_XOffsetFromSlideCentre': u'8563374',\n",
       "  u'hamamatsu_YOffsetFromSlideCentre': u'818385',\n",
       "  u'hamamatsu_YRNP[0]': u'0,0,0,0',\n",
       "  u'hamamatsu_YRNP[1]': u'0,0,0,0',\n",
       "  u'hamamatsu_YRNP[2]': u'0,0,0,0',\n",
       "  u'hamamatsu_calibration_version': u'0',\n",
       "  u'hamamatsu_ccd_height': u'0',\n",
       "  u'hamamatsu_ccd_width': u'9280',\n",
       "  u'hamamatsu_ccd_width_ploidy': u'9302',\n",
       "  u'hamamatsu_coarse_focus_pitch': u'4870',\n",
       "  u'hamamatsu_colorfilterID': u'0',\n",
       "  u'hamamatsu_cube_kind': u'0',\n",
       "  u'hamamatsu_exposure_barcode_macro': u'320',\n",
       "  u'hamamatsu_exposure_slide_darkfield_macro': u'10',\n",
       "  u'hamamatsu_exposure_slide_macro': u'20',\n",
       "  u'hamamatsu_fine_focus_pitch': u'250',\n",
       "  u'hamamatsu_focalplane_leftbottom': u'92401,691978,112623',\n",
       "  u'hamamatsu_focalplane_lefttop': u'92401,491978,112204',\n",
       "  u'hamamatsu_focalplane_rightbottom': u'492401,691978,113325',\n",
       "  u'hamamatsu_focalplane_righttop': u'492401,491978,112970',\n",
       "  u'hamamatsu_lane_shift_amount': u'1',\n",
       "  u'hamamatsu_roi_barcode_macro': u'978,272,1258,594',\n",
       "  u'hamamatsu_roi_slide_macro': u'54,243,1261,656',\n",
       "  u'hamamatsu_slant_leftbottom': u'91970,693576,112627',\n",
       "  u'hamamatsu_slant_lefttop': u'91970,493576,112169',\n",
       "  u'hamamatsu_slant_rightbottom': u'491970,493576,112974',\n",
       "  u'hamamatsu_slant_righttop': u'491970,693576,113367',\n",
       "  u'hamamatsu_slide_tickness': u'0',\n",
       "  u'hamamatsu_stage_center': u'182401,591978',\n",
       "  u'hamamatsu_system_version': u'1.0',\n",
       "  u'hamamatsu_target_white_intensity': u'235',\n",
       "  u'hamamatsu_valid_DDKP': u'1',\n",
       "  u'hamamatsu_valid_DLTP': u'0',\n",
       "  u'hamamatsu_valid_DSHP': u'1',\n",
       "  u'hamamatsu_variable_exposuretime': u'0',\n",
       "  u'hamamatsu_zCoarse[0]': u'1,7392,0,100',\n",
       "  u'hamamatsu_zCoarse[1]': u'1,1946,0,100',\n",
       "  u'hamamatsu_zCoarse[2]': u'0,0,0,0',\n",
       "  u'hamamatsu_zFine[0]': u'1,295680,0,100',\n",
       "  u'hamamatsu_zFine[1]': u'1,77824,0,100',\n",
       "  u'hamamatsu_zFine[2]': u'0,0,0,0',\n",
       "  u'openslide_level-count': u'9',\n",
       "  u'openslide_level[0]_downsample': u'1',\n",
       "  u'openslide_level[0]_height': u'81408',\n",
       "  u'openslide_level[0]_tile-height': u'8',\n",
       "  u'openslide_level[0]_tile-width': u'3968',\n",
       "  u'openslide_level[0]_width': u'134912',\n",
       "  u'openslide_level[1]_downsample': u'2',\n",
       "  u'openslide_level[1]_height': u'40704',\n",
       "  u'openslide_level[1]_tile-height': u'4',\n",
       "  u'openslide_level[1]_tile-width': u'1984',\n",
       "  u'openslide_level[1]_width': u'67456',\n",
       "  u'openslide_level[2]_downsample': u'4',\n",
       "  u'openslide_level[2]_height': u'20352',\n",
       "  u'openslide_level[2]_tile-height': u'8',\n",
       "  u'openslide_level[2]_tile-width': u'992',\n",
       "  u'openslide_level[2]_width': u'33728',\n",
       "  u'openslide_level[3]_downsample': u'8',\n",
       "  u'openslide_level[3]_height': u'10176',\n",
       "  u'openslide_level[3]_tile-height': u'4',\n",
       "  u'openslide_level[3]_tile-width': u'496',\n",
       "  u'openslide_level[3]_width': u'16864',\n",
       "  u'openslide_level[4]_downsample': u'16',\n",
       "  u'openslide_level[4]_height': u'5088',\n",
       "  u'openslide_level[4]_tile-height': u'8',\n",
       "  u'openslide_level[4]_tile-width': u'248',\n",
       "  u'openslide_level[4]_width': u'8432',\n",
       "  u'openslide_level[5]_downsample': u'32',\n",
       "  u'openslide_level[5]_height': u'2544',\n",
       "  u'openslide_level[5]_tile-height': u'4',\n",
       "  u'openslide_level[5]_tile-width': u'124',\n",
       "  u'openslide_level[5]_width': u'4216',\n",
       "  u'openslide_level[6]_downsample': u'64',\n",
       "  u'openslide_level[6]_height': u'1272',\n",
       "  u'openslide_level[6]_tile-height': u'1272',\n",
       "  u'openslide_level[6]_tile-width': u'2108',\n",
       "  u'openslide_level[6]_width': u'2108',\n",
       "  u'openslide_level[7]_downsample': u'128',\n",
       "  u'openslide_level[7]_height': u'636',\n",
       "  u'openslide_level[7]_tile-height': u'636',\n",
       "  u'openslide_level[7]_tile-width': u'1054',\n",
       "  u'openslide_level[7]_width': u'1054',\n",
       "  u'openslide_level[8]_downsample': u'256',\n",
       "  u'openslide_level[8]_height': u'318',\n",
       "  u'openslide_level[8]_tile-height': u'318',\n",
       "  u'openslide_level[8]_tile-width': u'527',\n",
       "  u'openslide_level[8]_width': u'527',\n",
       "  u'openslide_mpp-x': u'0.22656727915354463',\n",
       "  u'openslide_mpp-y': u'0.22753128555176336',\n",
       "  u'openslide_objective-power': u'40',\n",
       "  u'openslide_quickhash-1': u'935e559d105f411b47674905ec903b94532af1c66af4949de9bd29515915cf40',\n",
       "  u'openslide_vendor': u'hamamatsu',\n",
       "  u'tiff_DateTime': u'2012:06:19 18:53:45',\n",
       "  u'tiff_Make': u'Hamamatsu',\n",
       "  u'tiff_Model': u'C9600-12',\n",
       "  u'tiff_ResolutionUnit': u'centimeter',\n",
       "  u'tiff_Software': u'NDP.scan 2.3.25',\n",
       "  u'tiff_XResolution': u'44137',\n",
       "  u'tiff_YResolution': u'43950'},\n",
       " u'slideGroup': u'ADRC60-129',\n",
       " u'slideLabel_image': u'/labelImage/ADRC60-129/aBeta/ADRC60-129_1F_Abeta.ndpi',\n",
       " u'slide_md5': None,\n",
       " u'slide_name': u'ADRC60-129_1F_Abeta.ndpi',\n",
       " u'slide_w_path': u'/DZIMS/ADRC60-129/aBeta/ADRC60-129_1F_Abeta.ndpi.dzi',\n",
       " u'stain_type': u'aBeta',\n",
       " u'thumbnail_image': u'/thumbnail/ADRC60-129/aBeta/ADRC60-129_1F_Abeta.ndpi',\n",
       " u'width': 134912}"
      ]
     },
     "execution_count": 23,
     "metadata": {},
     "output_type": "execute_result"
    }
   ],
   "source": [
    "dsa_slide_db['DSA_Slide_Data'].find_one({'HasAperioXML':True})"
   ]
  },
  {
   "cell_type": "code",
   "execution_count": null,
   "metadata": {
    "collapsed": false
   },
   "outputs": [],
   "source": [
    "print dsa_slide_db['DSA_Slide_Data'].distinct('slideGroup')"
   ]
  },
  {
   "cell_type": "code",
   "execution_count": null,
   "metadata": {
    "collapsed": false
   },
   "outputs": [],
   "source": [
    "cur= dsa_slide_db['DSA_Slide_Data'].find({'pt_id':'ADRC50-10'})\n",
    "for c in cur:\n",
    "    print c"
   ]
  },
  {
   "cell_type": "code",
   "execution_count": null,
   "metadata": {
    "collapsed": false
   },
   "outputs": [],
   "source": [
    "dsa_slide_db['DSA_Slide_Data'].find_one()"
   ]
  }
 ],
 "metadata": {
  "kernelspec": {
   "display_name": "Python 2",
   "language": "python",
   "name": "python2"
  },
  "language_info": {
   "codemirror_mode": {
    "name": "ipython",
    "version": 2
   },
   "file_extension": ".py",
   "mimetype": "text/x-python",
   "name": "python",
   "nbconvert_exporter": "python",
   "pygments_lexer": "ipython2",
   "version": "2.7.11"
  }
 },
 "nbformat": 4,
 "nbformat_minor": 0
}
